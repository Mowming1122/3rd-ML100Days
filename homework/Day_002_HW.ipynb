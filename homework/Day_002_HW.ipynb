{
 "cells": [
  {
   "cell_type": "code",
   "execution_count": null,
   "metadata": {},
   "outputs": [],
   "source": [
    "'''\n",
    "思考題_請找出一個你認為機器學習可以發光發熱的領域並闡述原因?\n",
    "A:製造業;產品在產線組裝時，會運用到大量人工，在確認產品時，用肉眼辨識的準確率容易因作業員體能狀況或是其他外在因素影響，\n",
    "若能在此加入AI自動辨識的話，能減少錯誤也可節省人力。\n",
    "'''"
   ]
  }
 ],
 "metadata": {
  "kernelspec": {
   "display_name": "Python 3",
   "language": "python",
   "name": "python3"
  },
  "language_info": {
   "codemirror_mode": {
    "name": "ipython",
    "version": 3
   },
   "file_extension": ".py",
   "mimetype": "text/x-python",
   "name": "python",
   "nbconvert_exporter": "python",
   "pygments_lexer": "ipython3",
   "version": "3.7.3"
  }
 },
 "nbformat": 4,
 "nbformat_minor": 2
}
