{
 "cells": [
  {
   "cell_type": "code",
   "execution_count": null,
   "metadata": {},
   "outputs": [],
   "source": [
    "'''\n",
    "閱讀文章:如何優化大規模推薦？下一代算法技術JTM來了\n",
    "來自機器之心\n",
    "\n",
    "1.專案的目標？ (要解決什麼問題）\n",
    "A:擴大推薦問題(電商平台推薦,廣告商品)的檢索範圍以及容納更加先進的打分模型\n",
    "\n",
    "\n",
    "\n",
    "2.使用的技術是？ (只需知道名稱即可，例如：使用 CNN 卷積神經網路做影像分類)\n",
    "A:樹型全庫檢索推薦算法(Tree-based Deep Model，TDM)\n",
    "\n",
    "3.資料來源？\n",
    "A:Amazon Books和UserBehavior\n",
    "\n",
    "'''"
   ]
  }
 ],
 "metadata": {
  "kernelspec": {
   "display_name": "Python 3",
   "language": "python",
   "name": "python3"
  },
  "language_info": {
   "codemirror_mode": {
    "name": "ipython",
    "version": 3
   },
   "file_extension": ".py",
   "mimetype": "text/x-python",
   "name": "python",
   "nbconvert_exporter": "python",
   "pygments_lexer": "ipython3",
   "version": "3.7.3"
  }
 },
 "nbformat": 4,
 "nbformat_minor": 2
}
